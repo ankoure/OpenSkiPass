{
 "cells": [
  {
   "cell_type": "code",
   "execution_count": 13,
   "metadata": {},
   "outputs": [
    {
     "data": {
      "text/plain": [
       "True"
      ]
     },
     "execution_count": 13,
     "metadata": {},
     "output_type": "execute_result"
    }
   ],
   "source": [
    "import geopandas as gpd\n",
    "import requests\n",
    "import uuid\n",
    "from dotenv import load_dotenv\n",
    "import os\n",
    "from sqlalchemy import create_engine\n",
    "load_dotenv()"
   ]
  },
  {
   "cell_type": "code",
   "execution_count": 14,
   "metadata": {},
   "outputs": [],
   "source": [
    "r = requests.get('https://skimap.org/skiareas/index.geojson')\n"
   ]
  },
  {
   "cell_type": "code",
   "execution_count": 15,
   "metadata": {},
   "outputs": [],
   "source": [
    "gdf = gpd.read_file(r.text, driver='GeoJSON')"
   ]
  },
  {
   "cell_type": "code",
   "execution_count": 16,
   "metadata": {},
   "outputs": [],
   "source": [
    "#Break out Nordic/Downhill to True False Columns\n",
    "gdf['alpine'] = gdf['activities'].apply(lambda x: True if 'downhill' in x else False)\n",
    "gdf['nordic'] = gdf['activities'].apply(lambda x: True if 'nordic' in x else False)\n",
    "#Drop the original activities column\n",
    "gdf.drop(columns=['activities'], inplace=True)\n",
    "#gdf['nordic'].value_counts()\n"
   ]
  },
  {
   "cell_type": "code",
   "execution_count": 17,
   "metadata": {},
   "outputs": [],
   "source": [
    "gdf = gdf.rename(columns={'status':'operatingstatus','official_website':'website'})"
   ]
  },
  {
   "cell_type": "code",
   "execution_count": 18,
   "metadata": {},
   "outputs": [],
   "source": [
    "gdf['skiarea_pk'] = [uuid.uuid4() for _ in range(len(gdf.index))]\n",
    "gdf['passaffiliation'] = 'Unaffiliated'\n",
    "gdf['partnered'] = None"
   ]
  },
  {
   "cell_type": "code",
   "execution_count": 19,
   "metadata": {},
   "outputs": [],
   "source": [
    "gdf = gdf[['skiarea_pk','id','scalerank','passaffiliation','partnered','name','operatingstatus','alpine','nordic','website','geometry']]"
   ]
  },
  {
   "cell_type": "code",
   "execution_count": 20,
   "metadata": {},
   "outputs": [],
   "source": [
    "gdf.rename_geometry('location',inplace=True)"
   ]
  },
  {
   "cell_type": "code",
   "execution_count": 21,
   "metadata": {},
   "outputs": [],
   "source": [
    "#Write the data to PostGIS\n",
    "db_connection_url = os.getenv('DATABASE_URL')\n",
    "\n",
    "# Create a SQLAlchemy engine\n",
    "engine = create_engine(db_connection_url)\n",
    "# Write the GeoDataFrame to PostGIS\n",
    "gdf.to_postgis(name='ski_resorts_skiarea', con=engine, if_exists='append')\n",
    "\n"
   ]
  },
  {
   "cell_type": "code",
   "execution_count": null,
   "metadata": {},
   "outputs": [],
   "source": [
    "gdf = gdf.where(gdf.notna(), None)\n"
   ]
  }
 ],
 "metadata": {
  "kernelspec": {
   "display_name": "ski",
   "language": "python",
   "name": "python3"
  },
  "language_info": {
   "codemirror_mode": {
    "name": "ipython",
    "version": 3
   },
   "file_extension": ".py",
   "mimetype": "text/x-python",
   "name": "python",
   "nbconvert_exporter": "python",
   "pygments_lexer": "ipython3",
   "version": "3.12.8"
  }
 },
 "nbformat": 4,
 "nbformat_minor": 2
}
