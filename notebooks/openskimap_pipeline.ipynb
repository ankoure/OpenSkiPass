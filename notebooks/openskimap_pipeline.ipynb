{
 "cells": [
  {
   "cell_type": "code",
   "execution_count": 9,
   "metadata": {},
   "outputs": [],
   "source": [
    "import geopandas as gpd\n",
    "import requests\n",
    "import uuid"
   ]
  },
  {
   "cell_type": "code",
   "execution_count": 22,
   "metadata": {},
   "outputs": [
    {
     "name": "stderr",
     "output_type": "stream",
     "text": [
      "c:\\Users\\andko\\anaconda3\\envs\\ski\\Lib\\site-packages\\geopandas\\io\\file.py:399: FutureWarning: errors='ignore' is deprecated and will raise in a future version. Use to_datetime without passing `errors` and catch exceptions explicitly instead\n",
      "  as_dt = pd.to_datetime(df[k], errors=\"ignore\")\n",
      "c:\\Users\\andko\\anaconda3\\envs\\ski\\Lib\\site-packages\\geopandas\\io\\file.py:399: FutureWarning: errors='ignore' is deprecated and will raise in a future version. Use to_datetime without passing `errors` and catch exceptions explicitly instead\n",
      "  as_dt = pd.to_datetime(df[k], errors=\"ignore\")\n"
     ]
    }
   ],
   "source": [
    "all_passes = requests.get('https://raw.githubusercontent.com/ankoure/EastCoastSkiing/refs/heads/main/AllResorts.geojson')\n",
    "all_passes_gdf = gpd.read_file(all_passes.text,driver='GeoJSON')"
   ]
  },
  {
   "cell_type": "code",
   "execution_count": 26,
   "metadata": {},
   "outputs": [],
   "source": [
    "all_passes_gdf['id'] = all_passes_gdf['trailmapurl'].str.replace('https://skimap.org/skiareas/view/','')"
   ]
  },
  {
   "cell_type": "code",
   "execution_count": 28,
   "metadata": {},
   "outputs": [],
   "source": [
    "all_passes_gdf = all_passes_gdf[['id','partnered','passaffiliation']]"
   ]
  },
  {
   "cell_type": "code",
   "execution_count": 30,
   "metadata": {},
   "outputs": [],
   "source": [
    "all_passes_gdf = all_passes_gdf[all_passes_gdf['passaffiliation'].isin(['Indy','Ikon','Epic'])]"
   ]
  },
  {
   "cell_type": "code",
   "execution_count": 31,
   "metadata": {},
   "outputs": [
    {
     "data": {
      "text/html": [
       "<div>\n",
       "<style scoped>\n",
       "    .dataframe tbody tr th:only-of-type {\n",
       "        vertical-align: middle;\n",
       "    }\n",
       "\n",
       "    .dataframe tbody tr th {\n",
       "        vertical-align: top;\n",
       "    }\n",
       "\n",
       "    .dataframe thead th {\n",
       "        text-align: right;\n",
       "    }\n",
       "</style>\n",
       "<table border=\"1\" class=\"dataframe\">\n",
       "  <thead>\n",
       "    <tr style=\"text-align: right;\">\n",
       "      <th></th>\n",
       "      <th>id</th>\n",
       "      <th>partnered</th>\n",
       "      <th>passaffiliation</th>\n",
       "    </tr>\n",
       "  </thead>\n",
       "  <tbody>\n",
       "    <tr>\n",
       "      <th>25</th>\n",
       "      <td>522</td>\n",
       "      <td>False</td>\n",
       "      <td>Ikon</td>\n",
       "    </tr>\n",
       "    <tr>\n",
       "      <th>30</th>\n",
       "      <td>100</td>\n",
       "      <td>True</td>\n",
       "      <td>Epic</td>\n",
       "    </tr>\n",
       "    <tr>\n",
       "      <th>31</th>\n",
       "      <td>95</td>\n",
       "      <td>False</td>\n",
       "      <td>Indy</td>\n",
       "    </tr>\n",
       "    <tr>\n",
       "      <th>32</th>\n",
       "      <td>2177</td>\n",
       "      <td>False</td>\n",
       "      <td>Indy</td>\n",
       "    </tr>\n",
       "    <tr>\n",
       "      <th>33</th>\n",
       "      <td>39</td>\n",
       "      <td>True</td>\n",
       "      <td>Epic</td>\n",
       "    </tr>\n",
       "    <tr>\n",
       "      <th>...</th>\n",
       "      <td>...</td>\n",
       "      <td>...</td>\n",
       "      <td>...</td>\n",
       "    </tr>\n",
       "    <tr>\n",
       "      <th>615</th>\n",
       "      <td>539</td>\n",
       "      <td>False</td>\n",
       "      <td>Ikon</td>\n",
       "    </tr>\n",
       "    <tr>\n",
       "      <th>616</th>\n",
       "      <td>448</td>\n",
       "      <td>True</td>\n",
       "      <td>Ikon</td>\n",
       "    </tr>\n",
       "    <tr>\n",
       "      <th>617</th>\n",
       "      <td>229</td>\n",
       "      <td>False</td>\n",
       "      <td>Epic</td>\n",
       "    </tr>\n",
       "    <tr>\n",
       "      <th>620</th>\n",
       "      <td>538</td>\n",
       "      <td>False</td>\n",
       "      <td>Ikon</td>\n",
       "    </tr>\n",
       "    <tr>\n",
       "      <th>621</th>\n",
       "      <td>530</td>\n",
       "      <td>False</td>\n",
       "      <td>Ikon</td>\n",
       "    </tr>\n",
       "  </tbody>\n",
       "</table>\n",
       "<p>329 rows × 3 columns</p>\n",
       "</div>"
      ],
      "text/plain": [
       "       id partnered passaffiliation\n",
       "25    522     False            Ikon\n",
       "30    100      True            Epic\n",
       "31     95     False            Indy\n",
       "32   2177     False            Indy\n",
       "33     39      True            Epic\n",
       "..    ...       ...             ...\n",
       "615   539     False            Ikon\n",
       "616   448      True            Ikon\n",
       "617   229     False            Epic\n",
       "620   538     False            Ikon\n",
       "621   530     False            Ikon\n",
       "\n",
       "[329 rows x 3 columns]"
      ]
     },
     "execution_count": 31,
     "metadata": {},
     "output_type": "execute_result"
    }
   ],
   "source": [
    "all_passes_gdf"
   ]
  },
  {
   "cell_type": "code",
   "execution_count": null,
   "metadata": {},
   "outputs": [],
   "source": [
    "r = requests.get('https://skimap.org/skiareas/index.geojson')\n"
   ]
  },
  {
   "cell_type": "code",
   "execution_count": 13,
   "metadata": {},
   "outputs": [],
   "source": [
    "gdf = gpd.read_file(r.text, driver='GeoJSON')"
   ]
  },
  {
   "cell_type": "code",
   "execution_count": 14,
   "metadata": {},
   "outputs": [
    {
     "data": {
      "text/html": [
       "<div>\n",
       "<style scoped>\n",
       "    .dataframe tbody tr th:only-of-type {\n",
       "        vertical-align: middle;\n",
       "    }\n",
       "\n",
       "    .dataframe tbody tr th {\n",
       "        vertical-align: top;\n",
       "    }\n",
       "\n",
       "    .dataframe thead th {\n",
       "        text-align: right;\n",
       "    }\n",
       "</style>\n",
       "<table border=\"1\" class=\"dataframe\">\n",
       "  <thead>\n",
       "    <tr style=\"text-align: right;\">\n",
       "      <th></th>\n",
       "      <th>scalerank</th>\n",
       "      <th>id</th>\n",
       "      <th>name</th>\n",
       "      <th>status</th>\n",
       "      <th>activities</th>\n",
       "      <th>official_website</th>\n",
       "      <th>geometry</th>\n",
       "    </tr>\n",
       "  </thead>\n",
       "  <tbody>\n",
       "    <tr>\n",
       "      <th>0</th>\n",
       "      <td>8</td>\n",
       "      <td>1</td>\n",
       "      <td>Smokey Mountain Ski Club</td>\n",
       "      <td>operating</td>\n",
       "      <td>[downhill]</td>\n",
       "      <td>http://www.skismokey.ca/</td>\n",
       "      <td>POINT (-66.92094 52.97795)</td>\n",
       "    </tr>\n",
       "    <tr>\n",
       "      <th>1</th>\n",
       "      <td>8</td>\n",
       "      <td>2</td>\n",
       "      <td>Northern Lights Ski Club</td>\n",
       "      <td>operating</td>\n",
       "      <td>[downhill]</td>\n",
       "      <td>https://www.facebook.com/northern.lights.ski.c...</td>\n",
       "      <td>POINT (-64.02009 53.52358)</td>\n",
       "    </tr>\n",
       "    <tr>\n",
       "      <th>2</th>\n",
       "      <td>8</td>\n",
       "      <td>3</td>\n",
       "      <td>White Hills</td>\n",
       "      <td>operating</td>\n",
       "      <td>[downhill]</td>\n",
       "      <td>http://www.whitehillsresort.com/</td>\n",
       "      <td>POINT (-54.04647 48.16178)</td>\n",
       "    </tr>\n",
       "    <tr>\n",
       "      <th>3</th>\n",
       "      <td>8</td>\n",
       "      <td>5</td>\n",
       "      <td>Marble Mountain</td>\n",
       "      <td>operating</td>\n",
       "      <td>[downhill]</td>\n",
       "      <td>http://www.skimarble.com/</td>\n",
       "      <td>POINT (-57.82722 48.93667)</td>\n",
       "    </tr>\n",
       "    <tr>\n",
       "      <th>4</th>\n",
       "      <td>8</td>\n",
       "      <td>6</td>\n",
       "      <td>Snow Valley Ski Club</td>\n",
       "      <td>operating</td>\n",
       "      <td>[downhill]</td>\n",
       "      <td>http://www.snowvalley.ca</td>\n",
       "      <td>POINT (-113.55668 53.48420)</td>\n",
       "    </tr>\n",
       "    <tr>\n",
       "      <th>...</th>\n",
       "      <td>...</td>\n",
       "      <td>...</td>\n",
       "      <td>...</td>\n",
       "      <td>...</td>\n",
       "      <td>...</td>\n",
       "      <td>...</td>\n",
       "      <td>...</td>\n",
       "    </tr>\n",
       "    <tr>\n",
       "      <th>5139</th>\n",
       "      <td>8</td>\n",
       "      <td>17944</td>\n",
       "      <td>Cricket Hill Trails</td>\n",
       "      <td>operating</td>\n",
       "      <td>[nordic]</td>\n",
       "      <td>https://www.facebook.com/LNSUCricketHillTrails</td>\n",
       "      <td>POINT (-72.63491 44.60926)</td>\n",
       "    </tr>\n",
       "    <tr>\n",
       "      <th>5140</th>\n",
       "      <td>8</td>\n",
       "      <td>17946</td>\n",
       "      <td>Skilift Hemberg</td>\n",
       "      <td>operating</td>\n",
       "      <td>[downhill]</td>\n",
       "      <td>https://www.skilifthemberg.ch/</td>\n",
       "      <td>POINT (9.17302 47.28233)</td>\n",
       "    </tr>\n",
       "    <tr>\n",
       "      <th>5141</th>\n",
       "      <td>8</td>\n",
       "      <td>17947</td>\n",
       "      <td>Skilift Degersheim</td>\n",
       "      <td>operating</td>\n",
       "      <td>[downhill]</td>\n",
       "      <td>https://www.skilift-degersheim.ch/</td>\n",
       "      <td>POINT (9.19722 47.36452)</td>\n",
       "    </tr>\n",
       "    <tr>\n",
       "      <th>5142</th>\n",
       "      <td>8</td>\n",
       "      <td>17948</td>\n",
       "      <td>Skilift Hochwacht Mosnang</td>\n",
       "      <td>operating</td>\n",
       "      <td>[downhill]</td>\n",
       "      <td>https://www.skiliftmosnang.ch/</td>\n",
       "      <td>POINT (9.04252 47.35873)</td>\n",
       "    </tr>\n",
       "    <tr>\n",
       "      <th>5143</th>\n",
       "      <td>8</td>\n",
       "      <td>17949</td>\n",
       "      <td>Skilift Oberwangen</td>\n",
       "      <td>operating</td>\n",
       "      <td>[downhill]</td>\n",
       "      <td>https://skilift-oberwangen.com/index.html</td>\n",
       "      <td>POINT (8.98569 47.41965)</td>\n",
       "    </tr>\n",
       "  </tbody>\n",
       "</table>\n",
       "<p>5144 rows × 7 columns</p>\n",
       "</div>"
      ],
      "text/plain": [
       "      scalerank     id                       name     status  activities  \\\n",
       "0             8      1   Smokey Mountain Ski Club  operating  [downhill]   \n",
       "1             8      2   Northern Lights Ski Club  operating  [downhill]   \n",
       "2             8      3                White Hills  operating  [downhill]   \n",
       "3             8      5            Marble Mountain  operating  [downhill]   \n",
       "4             8      6       Snow Valley Ski Club  operating  [downhill]   \n",
       "...         ...    ...                        ...        ...         ...   \n",
       "5139          8  17944        Cricket Hill Trails  operating    [nordic]   \n",
       "5140          8  17946            Skilift Hemberg  operating  [downhill]   \n",
       "5141          8  17947         Skilift Degersheim  operating  [downhill]   \n",
       "5142          8  17948  Skilift Hochwacht Mosnang  operating  [downhill]   \n",
       "5143          8  17949         Skilift Oberwangen  operating  [downhill]   \n",
       "\n",
       "                                       official_website  \\\n",
       "0                              http://www.skismokey.ca/   \n",
       "1     https://www.facebook.com/northern.lights.ski.c...   \n",
       "2                      http://www.whitehillsresort.com/   \n",
       "3                             http://www.skimarble.com/   \n",
       "4                              http://www.snowvalley.ca   \n",
       "...                                                 ...   \n",
       "5139     https://www.facebook.com/LNSUCricketHillTrails   \n",
       "5140                     https://www.skilifthemberg.ch/   \n",
       "5141                 https://www.skilift-degersheim.ch/   \n",
       "5142                     https://www.skiliftmosnang.ch/   \n",
       "5143          https://skilift-oberwangen.com/index.html   \n",
       "\n",
       "                         geometry  \n",
       "0      POINT (-66.92094 52.97795)  \n",
       "1      POINT (-64.02009 53.52358)  \n",
       "2      POINT (-54.04647 48.16178)  \n",
       "3      POINT (-57.82722 48.93667)  \n",
       "4     POINT (-113.55668 53.48420)  \n",
       "...                           ...  \n",
       "5139   POINT (-72.63491 44.60926)  \n",
       "5140     POINT (9.17302 47.28233)  \n",
       "5141     POINT (9.19722 47.36452)  \n",
       "5142     POINT (9.04252 47.35873)  \n",
       "5143     POINT (8.98569 47.41965)  \n",
       "\n",
       "[5144 rows x 7 columns]"
      ]
     },
     "execution_count": 14,
     "metadata": {},
     "output_type": "execute_result"
    }
   ],
   "source": [
    "gdf"
   ]
  },
  {
   "cell_type": "code",
   "execution_count": 15,
   "metadata": {},
   "outputs": [],
   "source": [
    "#Break out Nordic/Downhill to True False Columns\n",
    "gdf['alpine'] = gdf['activities'].apply(lambda x: True if 'downhill' in x else False)\n",
    "gdf['nordic'] = gdf['activities'].apply(lambda x: True if 'nordic' in x else False)\n",
    "#Drop the original activities column\n",
    "gdf.drop(columns=['activities'], inplace=True)\n",
    "#gdf['nordic'].value_counts()\n"
   ]
  },
  {
   "cell_type": "code",
   "execution_count": 16,
   "metadata": {},
   "outputs": [],
   "source": [
    "gdf = gdf.rename(columns={'status':'operatingstatus','official_website':'website'})"
   ]
  },
  {
   "cell_type": "code",
   "execution_count": 18,
   "metadata": {},
   "outputs": [],
   "source": [
    "gdf['skiarea_pk'] = [uuid.uuid4() for _ in range(len(gdf.index))]"
   ]
  },
  {
   "cell_type": "code",
   "execution_count": 36,
   "metadata": {},
   "outputs": [
    {
     "name": "stderr",
     "output_type": "stream",
     "text": [
      "C:\\Users\\andko\\AppData\\Local\\Temp\\ipykernel_18712\\500824586.py:2: SettingWithCopyWarning: \n",
      "A value is trying to be set on a copy of a slice from a DataFrame.\n",
      "Try using .loc[row_indexer,col_indexer] = value instead\n",
      "\n",
      "See the caveats in the documentation: https://pandas.pydata.org/pandas-docs/stable/user_guide/indexing.html#returning-a-view-versus-a-copy\n",
      "  all_passes_gdf['id']=gdf['id'].astype(int)\n"
     ]
    }
   ],
   "source": [
    "gdf['id']=gdf['id'].astype(int)\n",
    "all_passes_gdf['id']=gdf['id'].astype(int)\n",
    "\n",
    "gdf = gdf.merge(all_passes_gdf, on = ['id'], how = 'left')\n"
   ]
  },
  {
   "cell_type": "code",
   "execution_count": 37,
   "metadata": {},
   "outputs": [],
   "source": [
    "gdf = gdf[['skiarea_pk','id','scalerank','passaffiliation','partnered','name','operatingstatus','alpine','nordic','website','geometry']]"
   ]
  },
  {
   "cell_type": "code",
   "execution_count": null,
   "metadata": {},
   "outputs": [],
   "source": [
    "gdf = gdf.where(gdf.notna(), None)\n"
   ]
  },
  {
   "cell_type": "code",
   "execution_count": 45,
   "metadata": {},
   "outputs": [],
   "source": [
    "gdf.rename_geometry('location',inplace=True)"
   ]
  },
  {
   "cell_type": "code",
   "execution_count": 48,
   "metadata": {},
   "outputs": [],
   "source": [
    "from dotenv import load_dotenv\n",
    "import os\n",
    "from sqlalchemy import create_engine\n",
    "load_dotenv()\n",
    "\n",
    "#Write the data to PostGIS\n",
    "db_connection_url = os.getenv('DATABASE_URL')\n",
    "\n",
    "# Create a SQLAlchemy engine\n",
    "engine = create_engine(db_connection_url)\n",
    "# Write the GeoDataFrame to PostGIS\n",
    "gdf.to_postgis(name='ski_resorts_skiarea', con=engine, if_exists='append')\n",
    "\n"
   ]
  },
  {
   "cell_type": "code",
   "execution_count": 42,
   "metadata": {},
   "outputs": [
    {
     "data": {
      "text/plain": [
       "array([None, 'Ikon', 'Epic', 'Indy'], dtype=object)"
      ]
     },
     "execution_count": 42,
     "metadata": {},
     "output_type": "execute_result"
    }
   ],
   "source": [
    "gdf.passaffiliation.unique()"
   ]
  },
  {
   "cell_type": "code",
   "execution_count": 44,
   "metadata": {},
   "outputs": [
    {
     "data": {
      "text/plain": [
       "array([None, False, True], dtype=object)"
      ]
     },
     "execution_count": 44,
     "metadata": {},
     "output_type": "execute_result"
    }
   ],
   "source": [
    "gdf.partnered.unique()"
   ]
  },
  {
   "cell_type": "code",
   "execution_count": 46,
   "metadata": {},
   "outputs": [
    {
     "data": {
      "text/html": [
       "<div>\n",
       "<style scoped>\n",
       "    .dataframe tbody tr th:only-of-type {\n",
       "        vertical-align: middle;\n",
       "    }\n",
       "\n",
       "    .dataframe tbody tr th {\n",
       "        vertical-align: top;\n",
       "    }\n",
       "\n",
       "    .dataframe thead th {\n",
       "        text-align: right;\n",
       "    }\n",
       "</style>\n",
       "<table border=\"1\" class=\"dataframe\">\n",
       "  <thead>\n",
       "    <tr style=\"text-align: right;\">\n",
       "      <th></th>\n",
       "      <th>skiarea_pk</th>\n",
       "      <th>id</th>\n",
       "      <th>scalerank</th>\n",
       "      <th>passaffiliation</th>\n",
       "      <th>partnered</th>\n",
       "      <th>name</th>\n",
       "      <th>operatingstatus</th>\n",
       "      <th>alpine</th>\n",
       "      <th>nordic</th>\n",
       "      <th>website</th>\n",
       "      <th>location</th>\n",
       "    </tr>\n",
       "  </thead>\n",
       "  <tbody>\n",
       "    <tr>\n",
       "      <th>0</th>\n",
       "      <td>860c3cc5-854d-4784-8b9d-ac3cfbef5af7</td>\n",
       "      <td>1</td>\n",
       "      <td>8</td>\n",
       "      <td>None</td>\n",
       "      <td>None</td>\n",
       "      <td>Smokey Mountain Ski Club</td>\n",
       "      <td>operating</td>\n",
       "      <td>True</td>\n",
       "      <td>False</td>\n",
       "      <td>http://www.skismokey.ca/</td>\n",
       "      <td>POINT (-66.92094 52.97795)</td>\n",
       "    </tr>\n",
       "    <tr>\n",
       "      <th>1</th>\n",
       "      <td>7bc94484-ba1f-42e5-b1db-f0225119b1fb</td>\n",
       "      <td>2</td>\n",
       "      <td>8</td>\n",
       "      <td>None</td>\n",
       "      <td>None</td>\n",
       "      <td>Northern Lights Ski Club</td>\n",
       "      <td>operating</td>\n",
       "      <td>True</td>\n",
       "      <td>False</td>\n",
       "      <td>https://www.facebook.com/northern.lights.ski.c...</td>\n",
       "      <td>POINT (-64.02009 53.52358)</td>\n",
       "    </tr>\n",
       "    <tr>\n",
       "      <th>2</th>\n",
       "      <td>9fda64b2-ea29-4c93-be1f-e9238220a6de</td>\n",
       "      <td>3</td>\n",
       "      <td>8</td>\n",
       "      <td>None</td>\n",
       "      <td>None</td>\n",
       "      <td>White Hills</td>\n",
       "      <td>operating</td>\n",
       "      <td>True</td>\n",
       "      <td>False</td>\n",
       "      <td>http://www.whitehillsresort.com/</td>\n",
       "      <td>POINT (-54.04647 48.16178)</td>\n",
       "    </tr>\n",
       "    <tr>\n",
       "      <th>3</th>\n",
       "      <td>9429dbbb-6a74-4a29-82fd-74ff5d01629d</td>\n",
       "      <td>5</td>\n",
       "      <td>8</td>\n",
       "      <td>None</td>\n",
       "      <td>None</td>\n",
       "      <td>Marble Mountain</td>\n",
       "      <td>operating</td>\n",
       "      <td>True</td>\n",
       "      <td>False</td>\n",
       "      <td>http://www.skimarble.com/</td>\n",
       "      <td>POINT (-57.82722 48.93667)</td>\n",
       "    </tr>\n",
       "    <tr>\n",
       "      <th>4</th>\n",
       "      <td>42db0976-77c3-4f17-b038-7b8c5857c699</td>\n",
       "      <td>6</td>\n",
       "      <td>8</td>\n",
       "      <td>None</td>\n",
       "      <td>None</td>\n",
       "      <td>Snow Valley Ski Club</td>\n",
       "      <td>operating</td>\n",
       "      <td>True</td>\n",
       "      <td>False</td>\n",
       "      <td>http://www.snowvalley.ca</td>\n",
       "      <td>POINT (-113.55668 53.48420)</td>\n",
       "    </tr>\n",
       "  </tbody>\n",
       "</table>\n",
       "</div>"
      ],
      "text/plain": [
       "                             skiarea_pk  id  scalerank passaffiliation  \\\n",
       "0  860c3cc5-854d-4784-8b9d-ac3cfbef5af7   1          8            None   \n",
       "1  7bc94484-ba1f-42e5-b1db-f0225119b1fb   2          8            None   \n",
       "2  9fda64b2-ea29-4c93-be1f-e9238220a6de   3          8            None   \n",
       "3  9429dbbb-6a74-4a29-82fd-74ff5d01629d   5          8            None   \n",
       "4  42db0976-77c3-4f17-b038-7b8c5857c699   6          8            None   \n",
       "\n",
       "  partnered                      name operatingstatus  alpine  nordic  \\\n",
       "0      None  Smokey Mountain Ski Club       operating    True   False   \n",
       "1      None  Northern Lights Ski Club       operating    True   False   \n",
       "2      None               White Hills       operating    True   False   \n",
       "3      None           Marble Mountain       operating    True   False   \n",
       "4      None      Snow Valley Ski Club       operating    True   False   \n",
       "\n",
       "                                             website  \\\n",
       "0                           http://www.skismokey.ca/   \n",
       "1  https://www.facebook.com/northern.lights.ski.c...   \n",
       "2                   http://www.whitehillsresort.com/   \n",
       "3                          http://www.skimarble.com/   \n",
       "4                           http://www.snowvalley.ca   \n",
       "\n",
       "                      location  \n",
       "0   POINT (-66.92094 52.97795)  \n",
       "1   POINT (-64.02009 53.52358)  \n",
       "2   POINT (-54.04647 48.16178)  \n",
       "3   POINT (-57.82722 48.93667)  \n",
       "4  POINT (-113.55668 53.48420)  "
      ]
     },
     "execution_count": 46,
     "metadata": {},
     "output_type": "execute_result"
    }
   ],
   "source": [
    "gdf.head()"
   ]
  }
 ],
 "metadata": {
  "kernelspec": {
   "display_name": "ski",
   "language": "python",
   "name": "python3"
  },
  "language_info": {
   "codemirror_mode": {
    "name": "ipython",
    "version": 3
   },
   "file_extension": ".py",
   "mimetype": "text/x-python",
   "name": "python",
   "nbconvert_exporter": "python",
   "pygments_lexer": "ipython3",
   "version": "3.12.8"
  }
 },
 "nbformat": 4,
 "nbformat_minor": 2
}
