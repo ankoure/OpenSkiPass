{
 "cells": [
  {
   "cell_type": "code",
   "execution_count": 16,
   "metadata": {},
   "outputs": [],
   "source": [
    "import geopandas as gpd\n",
    "from dotenv import load_dotenv\n",
    "import os\n",
    "from sqlalchemy import create_engine\n",
    "load_dotenv()\n",
    "#Write the data to PostGIS\n",
    "db_connection_url = os.getenv('READ_DB_URL')\n",
    "\n",
    "# Create a SQLAlchemy engine\n",
    "engine = create_engine(db_connection_url)\n",
    "# Write the GeoDataFrame to PostGIS\n",
    "sql = \"SELECT * from resort where skimap_id is not null\"\n",
    "df = gpd.GeoDataFrame.from_postgis(sql, engine)  \n"
   ]
  },
  {
   "cell_type": "code",
   "execution_count": 17,
   "metadata": {},
   "outputs": [],
   "source": [
    "list_of_dicts = df.to_dict('records')"
   ]
  },
  {
   "cell_type": "code",
   "execution_count": 18,
   "metadata": {},
   "outputs": [],
   "source": [
    "list_of_tuples = []\n",
    "for d in list_of_dicts:\n",
    "    tup = (d[\"passaffiliation\"],d[\"partnered\"],d[\"skimap_id\"])\n",
    "    list_of_tuples.append(tup)"
   ]
  },
  {
   "cell_type": "code",
   "execution_count": 19,
   "metadata": {},
   "outputs": [
    {
     "name": "stdout",
     "output_type": "stream",
     "text": [
      "Bulk update completed successfully.\n"
     ]
    }
   ],
   "source": [
    "import psycopg2\n",
    "\n",
    "# Database connection parameters\n",
    "DB_PARAMS = {\n",
    "    \"dbname\": os.getenv('PGDATABASE'),\n",
    "    \"user\": os.getenv('PGUSER'),\n",
    "    \"password\": os.getenv('PGPASSWORD'),\n",
    "    \"host\": os.getenv('PGHOST'),\n",
    "    \"port\": \"5432\"\n",
    "}\n",
    "\n",
    "try:\n",
    "    # Connect to PostgreSQL\n",
    "    conn = psycopg2.connect(**DB_PARAMS)\n",
    "    cursor = conn.cursor()\n",
    "\n",
    "    # Bulk update query for two columns\n",
    "    update_query = \"\"\"\n",
    "    UPDATE ski_resorts_skiarea\n",
    "    SET passaffiliation = %s, partnered = %s\n",
    "    WHERE id = %s\n",
    "    \"\"\"\n",
    "    #Use list of tuples constructed above to update, tuple should be ordered in the order that the %s appears so (passaffiliation,partnered,id)\n",
    "\n",
    "\n",
    "    # Execute the bulk update\n",
    "    cursor.executemany(update_query, list_of_tuples)\n",
    "\n",
    "    # Commit the transaction\n",
    "    conn.commit()\n",
    "\n",
    "    print(\"Bulk update completed successfully.\")\n",
    "\n",
    "except psycopg2.Error as e:\n",
    "    print(\"Error updating records:\", e)\n",
    "\n",
    "finally:\n",
    "    # Close the cursor and connection\n",
    "    if cursor:\n",
    "        cursor.close()\n",
    "    if conn:\n",
    "        conn.close()\n"
   ]
  }
 ],
 "metadata": {
  "kernelspec": {
   "display_name": "ski",
   "language": "python",
   "name": "python3"
  },
  "language_info": {
   "codemirror_mode": {
    "name": "ipython",
    "version": 3
   },
   "file_extension": ".py",
   "mimetype": "text/x-python",
   "name": "python",
   "nbconvert_exporter": "python",
   "pygments_lexer": "ipython3",
   "version": "3.12.8"
  }
 },
 "nbformat": 4,
 "nbformat_minor": 2
}
