{
 "cells": [
  {
   "cell_type": "code",
   "execution_count": 5,
   "metadata": {},
   "outputs": [
    {
     "name": "stderr",
     "output_type": "stream",
     "text": [
      "Skipping field interval:conditional: unsupported OGR type: 10\n"
     ]
    }
   ],
   "source": [
    "import geopandas as gpd\n",
    "gdf = gpd.read_file(\"./Data/aerialway.geojson\")"
   ]
  },
  {
   "cell_type": "code",
   "execution_count": 7,
   "metadata": {},
   "outputs": [],
   "source": [
    "gdf = gdf[gdf.geom_type=='LineString']\n"
   ]
  },
  {
   "cell_type": "code",
   "execution_count": 13,
   "metadata": {},
   "outputs": [
    {
     "name": "stdout",
     "output_type": "stream",
     "text": [
      "['id', '@id', 'FIXME', 'LINZ:dataset', 'LINZ:layer', 'LINZ:source_version', 'abandoned', 'abandoned:aerialway', 'abandoned:building', 'abandoned:railway', 'access', 'access:conditional', 'access:disabled', 'access_control', 'accuracy', 'addr:city', 'addr:country', 'addr:district', 'addr:full', 'addr:housenumber', 'addr:postcode', 'addr:state', 'addr:street', 'admin_level', 'aerialway', 'aerialway:access', 'aerialway:bicycle', 'aerialway:bubble', 'aerialway:cabines', 'aerialway:capacity', 'aerialway:capacity:summer', 'aerialway:capacity:winter', 'aerialway:carpet_start', 'aerialway:chair_lift:occupancy', 'aerialway:chairlift:occupancy', 'aerialway:chairs', 'aerialway:constructor', 'aerialway:conveyor', 'aerialway:covered', 'aerialway:detachable', 'aerialway:diagonallength', 'aerialway:difference', 'aerialway:difficulty', 'aerialway:drag_lift', 'aerialway:duration', 'aerialway:elements', 'aerialway:express', 'aerialway:foot_rest', 'aerialway:gondala', 'aerialway:gondola:occupancy', 'aerialway:heating', 'aerialway:height_difference', 'aerialway:interval', 'aerialway:launch_conveyor', 'aerialway:length', 'aerialway:manufacturer', 'aerialway:maxweight', 'aerialway:name', 'aerialway:occupancy', 'aerialway:occupancy:chair', 'aerialway:occupancy:chair_lift', 'aerialway:occupancy:chairlift', 'aerialway:occupancy:downhill', 'aerialway:occupancy:gondola', 'aerialway:occupancy:note', 'aerialway:oneway', 'aerialway:points', 'aerialway:product', 'aerialway:ref', 'aerialway:speed', 'aerialway:status', 'aerialway:summer', 'aerialway:summer:access', 'aerialway:summer:capacity', 'aerialway:type', 'aerialway:units', 'aerialway:vertical', 'aerialway:winter', 'aerialway:winter:access', 'aerialway:winter:capacity', 'aerialway:winter:occupancy', 'aerialway_1', 'aeroway:fee', 'aeroway:heating', 'alt_name', 'alt_name:ar', 'alt_name:de', 'alt_name:en', 'alt_name:fr', 'alt_name:ja-Hira', 'alt_name:ja-Latn', 'amenity', 'area', 'ascent', 'attraction', 'attribution', 'baby', 'bicycle', 'bicycle:conditional', 'bike', 'bike_ride', 'blind', 'bodied', 'brand', 'brand:en', 'brand:wikidata', 'brand:zh', 'bridge', 'bridge:structure', 'build_year', 'building', 'building:level:underground', 'building:levels', 'cabins', 'cables', 'capacity', 'capacity:persons', 'capacity:seats', 'capacity:weight', 'cars', 'chaircount', 'chairs', 'charge', 'charge:adult', 'charge:child', 'charge:note', 'check_date', 'check_date:opening_hours', 'check_date:surface', 'closed', 'colour', 'comment', 'construction', 'construction:aerialway', 'construction_date', 'construction_start_expected', 'construction_year', 'contact:email', 'contact:facebook', 'contact:fax', 'contact:instagram', 'contact:mobile', 'contact:phone', 'contact:tripadvisor', 'contact:twitter', 'contact:website', 'contact:youtube', 'conveying', 'covered', 'created_by', 'cuisine', 'currency:BCH', 'currency:BTG', 'currency:DASH', 'currency:GEL', 'currency:LTC', 'currency:USDT', 'currency:XBT', 'currency:ZEC', 'cutline', 'cycleway', 'demolished', 'departure', 'descent', 'description', 'description:cs', 'description:de', 'description:en', 'description:eo', 'description:fr', 'description:lv', 'description:pl', 'design', 'designation', 'destination', 'direction', 'distance', 'disused', 'disused:aerialway', 'disused:leisure', 'diused', 'dog', 'drag_lift', 'draglift', 'duration', 'ele', 'ele_delta', 'electrified', 'email', 'emergency:phone', 'enclosed', 'end_date', 'energy_class', 'established', 'fax', 'fee', 'ferry', 'fixme', 'foot', 'footway', 'gauge', 'generator:source', 'goods', 'height', 'heritage', 'heritage:operator', 'high_ropes_course', 'highest_summit', 'highway', 'hill', 'historic', 'historic:aerialway', 'horse', 'image', 'imagery_used', 'incline', 'incline:backward', 'incline:forward', 'indoor', 'int_name', 'internet_access', 'internet_access:fee', 'interval', 'is_in', 'is_in:city', 'is_in:state', 'is_in:state_code', 'it:fvg:regional_catalog:teleferiche:codice_fvg', 'jpoi_id', 'key', 'landuse', 'lanes', 'layer', 'leisure', 'length', 'length_unit', 'level', 'levels', 'lift:speed', 'lift:type', 'line', 'lit', 'loc_name', 'local_name', 'location', 'lowest_base', 'man_made', 'manufacturer', 'manufacturer:wikidata', 'mapillary', 'maxlength', 'maxspeed', 'maxweight', 'mhs:inscription_date', 'military_service', 'min_height', 'mobile', 'mono_ski', 'motor_vehicle', 'motorcycle', 'mtb', 'mtb:scale', 'museum', 'name', 'name2', 'name:alt', 'name:ar', 'name:ay', 'name:ber', 'name:bg', 'name:br', 'name:ca', 'name:ckb', 'name:cs', 'name:de', 'name:el', 'name:en', 'name:es', 'name:fr', 'name:gd', 'name:he', 'name:hr', 'name:hu', 'name:id', 'name:it', 'name:ja', 'name:ja-Hira', 'name:ja-Latn', 'name:ja_kana', 'name:ka', 'name:ko', 'name:ko-Latn', 'name:ks', 'name:ku', 'name:lb', 'name:lld', 'name:mk', 'name:mr', 'name:nan', 'name:nan-Hant', 'name:nan-Latn-pehoeji', 'name:nan-Latn-tailo', 'name:nb', 'name:ne', 'name:nl', 'name:oc', 'name:pl', 'name:pt', 'name:rm', 'name:ro', 'name:ru', 'name:sk', 'name:sl', 'name:sr', 'name:sr-Latn', 'name:te', 'name:th', 'name:tk', 'name:tr', 'name:uk', 'name:ur', 'name:yue', 'name:yue-Hans', 'name:zh', 'name:zh-Hans', 'name:zh-Hant', 'name:zh-Latn-pinyin', 'natural', 'network', 'network:wikidata', 'network:wikipedia', 'nickname', 'no:network', 'not:aerialway', 'note', 'note:de', 'note:en', 'note:fr', 'note:no', 'note:ru', 'occupancy', 'odbl', 'official_name', 'old_name', 'old_name:-2024', 'old_name:de', 'old_name:en', 'old_name:en:-2024', 'old_name:he', 'old_name:ja', 'old_name:ja:-2024', 'old_name:ru', 'old_name_2', 'old_website', 'oneway', 'oneway:chairlift', 'opened', 'opening', 'opening_date', 'opening_hours', 'opening_hours:ascent', 'opening_hours:covid19', 'opening_hours:url', 'operation', 'operational_status', 'operator', 'operator:en', 'operator:name', 'operator:phone', 'operator:short', 'operator:type', 'operator:website', 'operator:wikidata', 'operator:wikipedia', 'operator:zh', 'outdoor_seating', 'owner', 'owner:en', 'owner:zh', 'ownership', 'panoramax', 'passenger', 'passenger_lines', 'payment', 'payment:card', 'payment:cards', 'payment:cash', 'payment:contactless', 'payment:credit_cards', 'payment:debit_cards', 'payment:mastercard', 'payment:notes', 'payment:onchain', 'payment:visa', 'phone', 'phone_1', 'picture', 'piste', 'piste:abandoned', 'piste:capacity', 'piste:difficulty', 'piste:duration', 'piste:grooming', 'piste:lift', 'piste:lift:capacity', 'piste:lift:duration', 'piste:lift:name', 'piste:lift:occupancy', 'piste:lit', 'piste:name', 'piste:occupancy', 'piste:type', 'place', 'placement', 'planned', 'planned:aerialway', 'planned:aerialway:capacity', 'playground', 'playground:theme', 'power', 'private', 'prix', 'proposed', 'proposed:aerialway', 'proposed:ownership', 'proposed:start_date', 'public_transport', 'railway', 'ramp', 'razed', 'razed:aerialway', 'redf', 'ref', 'ref:BLfD', 'ref:FR:CAIRN', 'ref:mhs', 'ref:vatin', 'reg_name', 'removed:aerialway', 'reservation', 'roller_coaster', 'roundtrip', 'route', 'ruins', 'sac_scale', 'safety:mask:covid19', 'sauna', 'seamark:cable_overhead:clearance_height', 'seamark:type', 'seasonal', 'seasonal:summer', 'seasonal:winter', 'seatcount', 'seats', 'self_service', 'service', 'service:bicycle:ebike', 'service_times', 'shooting', 'short_name', 'ski', 'sled', 'smoothness', 'snowboard', 'snowmobile', 'source', 'source:aerialway', 'source:aerialway:capacity', 'source:aerialway:chars', 'source:aerialway:duration', 'source:bicycle', 'source:capacity', 'source:data', 'source:date', 'source:duration', 'source:geometry', 'source:heritage', 'source:manufacturer', 'source:name', 'source:no', 'source:position', 'source_ref', 'source_ref:ref', 'speed', 'sport', 'sport_1', 'start_date', 'state', 'station', 'status', 'statut', 'stroller', 'structure', 'subject:wikidata', 'subject:wikipedia', 'supervised', 'surface', 'surveillance', 'survey:date', 'tag', 'tiger:cfcc', 'tiger:county', 'tiger:name_base', 'tiger:reviewed', 'tiger:tlid', 'tiger:upload_uuid', 'tipo_const', 'todo', 'toll', 'tourism', 'traces', 'tracks', 'trail_visibility', 'tripadvisor', 'tunnel', 'type', 'url', 'usage', 'vertical_rise', 'visibility', 'wakeboard', 'was:FIXME', 'was:aerialway', 'was:aerialway:capacity', 'was:length', 'was:railway', 'was:ref', 'water_ski', 'website', 'website:de', 'website:en', 'website:note', 'wheelchair', 'wheelchair:description', 'width', 'wikidata', 'wikimedia_commons', 'wikipedia', 'wikipedia:de', 'wikipedia:en', 'wikipedia:es', 'wikipedia:fr', 'wikipedia:he', 'windshield', 'wires', 'year_of_construction', 'youtube', 'geometry']\n"
     ]
    }
   ],
   "source": [
    "\n",
    "print(gdf.columns.tolist())\n",
    "\n",
    "\n"
   ]
  },
  {
   "cell_type": "code",
   "execution_count": 9,
   "metadata": {},
   "outputs": [
    {
     "data": {
      "text/plain": [
       "Index(['id', '@id', 'FIXME', 'LINZ:dataset', 'LINZ:layer',\n",
       "       'LINZ:source_version', 'abandoned', 'abandoned:aerialway',\n",
       "       'abandoned:building', 'abandoned:railway',\n",
       "       ...\n",
       "       'wikipedia:de', 'wikipedia:en', 'wikipedia:es', 'wikipedia:fr',\n",
       "       'wikipedia:he', 'windshield', 'wires', 'year_of_construction',\n",
       "       'youtube', 'geometry'],\n",
       "      dtype='object', length=548)"
      ]
     },
     "execution_count": 9,
     "metadata": {},
     "output_type": "execute_result"
    }
   ],
   "source": [
    "gdf.keys()"
   ]
  },
  {
   "cell_type": "code",
   "execution_count": 16,
   "metadata": {},
   "outputs": [
    {
     "data": {
      "text/plain": [
       "array(['cable_car', 'gondola', 'chair_lift', 't-bar', 'drag_lift',\n",
       "       'platter', 'mixed_lift', 'rope_tow', 'j-bar', 'magic_carpet'],\n",
       "      dtype=object)"
      ]
     },
     "execution_count": 16,
     "metadata": {},
     "output_type": "execute_result"
    }
   ],
   "source": [
    "gdf[\"aerialway\"].unique()"
   ]
  },
  {
   "cell_type": "code",
   "execution_count": 18,
   "metadata": {},
   "outputs": [
    {
     "data": {
      "text/plain": [
       "array(['3:30', '7', None, '00:02:30', '00:01:30', '15-20', '6', '4',\n",
       "       '7.7', '8.5', '5', '7.5', '1', 'PT07M', '8', '7.333', '4.5',\n",
       "       '2.66', '2.5', '4.3', '2.9', '4.7', '3.3', '3.7', '3.5', '4.2',\n",
       "       '1.8', '3', '5.5', '10,3', '4,5', '5,5', '3,5', '5.8', '11',\n",
       "       '8:00', '5:00', '9', '12', '15', '10', '6.7', '2', '3:26', '9.1',\n",
       "       '3.8', '4.1', '5.9', '8.2', '6.83', '4.16', '13', '4.58', '8.1',\n",
       "       '7.1', '6.9', '9.6', '8.7', '9.2', '8.4', '6.3', '7.63', '6.82',\n",
       "       '6.08', '6.92', '8.45', '6.2', '4.18', '10.73', '5.7', '12.7',\n",
       "       '7.18', '4.9', '6.13', '10.83', '7:05', '4:09', '5:50', '8:10',\n",
       "       '6:20', '2:50', '2:04', '3:16', '4.67', '6.33', '6.5', '6.17',\n",
       "       '4.33', '4:40', '2:10', '3.67', '4.17', '2.17', '2.83', '5:10',\n",
       "       '3:20', '5:40', '2:30', '14', '04:45', '04:06', '06:04', '06:30',\n",
       "       '5:22', '03:03', '5:21', '03:33', '05:37', '04:43', '07:31',\n",
       "       '04:50', '09:07', '02:15', '06:48', '05:53', '01:52', '4.8', '6.4',\n",
       "       '5.2', '16', '7.8', '5:20', '7:36', '3.2', '03:34', '7.4', '11:40',\n",
       "       '2.07', '6.71', '5.75', '4.19', '3.4', '4.53', '5.3', '3.23',\n",
       "       '4.88', '04:53', '9:10', '1,5', '7:20', '5:24', '3:40', '6:10',\n",
       "       '7.2', '2.3', '5.1', '5.4', '4.6', '9.7', '4.75', '6.25', '4.25',\n",
       "       '12.25', '2.25', '4.4', '3.6', '5.28', '3.9', '6.1', '6,5', '105',\n",
       "       '5.45', '5.25', '5,67', '3:10', '7:56', '5:19', '04:28', '10.1',\n",
       "       '06:08', '7:46', '03:42', '04:55', '03:12', '04:59', '05:16',\n",
       "       '05:24', '04:42', '9.8', '1.2', '1.3', '5.87', '2.37', '0:04:46',\n",
       "       '5m', '9.3', '9.4', '7.3', '8.3', '15.66', '8.9', '22', '06:24',\n",
       "       '04:14', '07:07', '03:44', '07:46', '7.17', '2:20', '8.83', '8.66',\n",
       "       '2.35', '3.33', '3.17', '05:25', '03:08', '03:52', '05:47',\n",
       "       '05:03', '05:48', '5.34', '870', '7:00', '4:15', '6:00', '2.8',\n",
       "       '21', '5.22', '2:15', '6.37', '4.92', '4.71', '3:46', '4:14',\n",
       "       '10:21', '20', '450', '240', '420', '4:50', '8:30', '5:30', '25',\n",
       "       '9:20', '3:50', '8,5', '5.917', '6:30', '12.5', '7:45', '3,29',\n",
       "       '5.3333', '6:50', '8:54', '3:02', '2.4', '3.75', '5,1', '5-6',\n",
       "       '5-7', '5:15', '7,1', '5,7', '17', '18', '19', '3.25', '8:20',\n",
       "       '3.83', '4.83', '8.33', '5.67', '2.67', '11.75', '5,4', '7.25',\n",
       "       '3.1', '5.6', '9.83', '7.33', '1.65', '1.67', '9,2', '6.67', '5,3',\n",
       "       '8:50', '1:15', '7.75', '6.75', '3:00', '8.87', '1.9', '05:04',\n",
       "       '05:15', '03:45', '05:40', '10:10', '9.5', '4:43', '04:00',\n",
       "       '06:45', '04:51', '6.66', '1.83', '5.16', '4:20', '5.65',\n",
       "       '00:04:00', '00:03:50', '1.5', '7.65', '1:50', '5.17', '04:36',\n",
       "       '3:54', '02:34', '7:10', '9:30', '4:30', '4:10', '2:40', '8,95',\n",
       "       '4,37', '2,9', '5:48', '6:06', '05:27', '03:26', '9:50', '12.6',\n",
       "       '2.88', '6.8', '7:30', '5,50', '5.33', '1.66', '1441', '6.6',\n",
       "       '6.52', '8-10', '00:05:50', '09:06', '04:37', '5:47', '0:06:04',\n",
       "       '10.9', '10.2', '7.30', '3.55', '6.73', '0', '3.52', '6.46',\n",
       "       '4.55', '7.16', \"4'\", '2-3', '2.13', '2.2', '4,8', '2.33',\n",
       "       '6.2 min', '6.56', '8.13', '10:00', '10:45', '7.87', '5.92',\n",
       "       '1.10', '10.75', '6:40', '4.15', '4 min 37 sec', '1.4', '4:08',\n",
       "       '3:22', '5.46', '2:42', '2.1', '7 min', '14.7', '8.167', '3,2',\n",
       "       '04:44', '6.15', '2.6', '1:20', '1:30', '16,2', '6,2', '05:29',\n",
       "       '26', '23', '2.45', '9.43', '8.46', '4.11', '3.0', '45', '05:42',\n",
       "       '06:26', '02:47', '13.9', '04:58', '1:56', '03:35', '2:12', '6:37',\n",
       "       '35', '5.12', '05:35', '02:40', '02:53', '4:35', '12.75', '6.72',\n",
       "       '9.95', '7:35', '5.83', '4:17', '7:03', '14:00', '2,2', '5.56',\n",
       "       '9:00', '6.36', '3,65', '5.52', '12.4', '2:55', '3 min 54 s',\n",
       "       '0:45', '7.6', '4,3', '(6:24)', '8.6', '7.9', '0:15', '0:07',\n",
       "       '17-37', '1.46', '2.7', '02:32', '3.66', '3.16', '03:05', '5.44',\n",
       "       '3-5', '7-8', '2,37', '1:10', '6.28', '140', '6.35', '4.07',\n",
       "       '2.26', '3.05', '8:40', '4.02', '3.32', '2:29', '0:29', '3:28',\n",
       "       '3:05', '7 min et 44 s', '00:06', '6-7', '1.16', '02:58', '01:39',\n",
       "       '2,6', '0:55', '03:16', '01:43', '3,83', '5,46', '1.78', '02:30',\n",
       "       '8,4', '07:12', '01:29', '05:00', '00:50', '4,58', '4,19', '3:35',\n",
       "       '30', '10.30', '2.75', '11.5', '0,1', '~2', '1.1', '3.13', '2,30',\n",
       "       '6.26', '04:27', '01:22', '7:40', '06:33', '9,4', '01:48', '1.77',\n",
       "       '1.7', '25 минут', '10.4', '3.46', '4,25', '4,30', '7 минут',\n",
       "       '2,1', '1.43', '1.75', '1.50', '2.733', '5.217', '9:40', '7:50',\n",
       "       '5.733', '2,5', '1.45', '13:48', '7:09', '4 min', '4,4', '4\\'20\"',\n",
       "       '0:07:00', '12.3', 'PT3M', 'PT3M25S', '2 мин', '05:45', '5.02',\n",
       "       '5.62', '04:20', '05:33', '1.33', '27', '1:40', '1.6', '1.38',\n",
       "       '1.58', '10.7', '.5', '0.83', '2.16', '6.16', '3.86', '720',\n",
       "       '9.33', '1000', '1:3', '8:4', '00:40', '10.5', '2.22', '9,44',\n",
       "       '3,74', '132', '00:10', '10.3', '13.5', '8.25', '5:54', '3:45',\n",
       "       '3.78', '7.53', '2.73', '5.19', '2:33', '0:50', '11.66',\n",
       "       '3 min 48 s', '32:19', '03:25', '>1', '3.16667', '6:55', '4,09',\n",
       "       '1:04', '1-2', '1.13', '0.45', '02:16', '2.517', '1.17', '0.4',\n",
       "       '6.53', '13.50', '0.9', '4:41', '13,5', '2-3 мин', '4-5 мин',\n",
       "       '~ 4 мин', '12 min', '4.93', '2,13', '3-4', '2.10', '4-5', '11.50',\n",
       "       '8-9', '8.36', '3.19', '8.21', '6-10', '3.50', '6:24', '16.5',\n",
       "       '9 минут', '05:49', '00:46', '4.04', '11.33', '2.23', '2.21',\n",
       "       '1.63', '33', 'TBD', '60', '3.45', '08:36', '1.68', '1:12', '3:11',\n",
       "       '3.39', '6:25', '05:11', '15.3', '10.50', '2:45', '3.85', '0.5',\n",
       "       '40', '50', '3:55', '3.15', '2.40', '3.35', '8.08', '0.62', '4,61',\n",
       "       '2.51', '1,30-3', '13.3', '6.12', '4.20', '10, 30', '4.30', '6.03',\n",
       "       '.66'], dtype=object)"
      ]
     },
     "execution_count": 18,
     "metadata": {},
     "output_type": "execute_result"
    }
   ],
   "source": [
    "gdf[\"aerialway:duration\"].unique()"
   ]
  },
  {
   "cell_type": "code",
   "execution_count": null,
   "metadata": {},
   "outputs": [],
   "source": [
    "aerialway_type = gdf[\"aerialway\"]\n",
    "occupancy = gdf[\"aerialway:occupancy\"]\n",
    "duration = gdf[\"aerialway:duration\"]\n",
    "bubble = gdf[\"aerialway:bubble\"]\n",
    "\n"
   ]
  },
  {
   "cell_type": "code",
   "execution_count": null,
   "metadata": {},
   "outputs": [],
   "source": [
    "#aerialway_type = models.CharField()\n",
    "    #j-bar, platter, and rope_tow imply 1 while t-bar implies 2, all else variable\n",
    "    #occupancy = models.IntegerField()\n",
    "    #people per hour, numeric\n",
    "    capacity = models.IntegerField()\n",
    "    #Average journey time in minutes\n",
    "    duration = models.IntegerField()\n",
    "    #gondola,chairlift,mixed_lift imply yes, but cable_car, t-bar, j-bar, platter, rope_tow and magic carper imply no\n",
    "    detachable = models.BooleanField()\n",
    "    #only common for chair_lift\n",
    "    #bubble = models.BooleanField(default=False)\n",
    "    heating = models.BooleanField(default=False)"
   ]
  },
  {
   "cell_type": "code",
   "execution_count": null,
   "metadata": {},
   "outputs": [],
   "source": [
    "import overpass\n",
    "import geojson\n",
    "\n",
    "api = overpass.API(timeout=600)\n",
    "\n",
    "# api.get already returns a FeatureCollection, a GeoJSON type\n",
    "res = api.get(\"\"\"\n",
    "   (\n",
    "  way[\"aerialway\"=\"cable_car\"];\n",
    "  way[\"aerialway\"=\"gondola\"];\n",
    "  way[\"aerialway\"=\"mixed_lift\"];\n",
    "  way[\"aerialway\"=\"chair_lift\"];\n",
    "  way[\"aerialway\"=\"drag_lift\"];\n",
    "  way[\"aerialway\"=\"t-bar\"];\n",
    "  way[\"aerialway\"=\"j-bar\"];\n",
    "  way[\"aerialway\"=\"platter\"];\n",
    "  way[\"aerialway\"=\"rope_tow\"];\n",
    "  way[\"aerialway\"=\"magic_carpet\"];\n",
    "\n",
    ");\n",
    "out geom;\n",
    "\"\"\")\n",
    "\n",
    "# if you want a str, then use dumps function\n",
    "#geojson_str = geojson.dumps(res)\n",
    "\n",
    "# dump as file, if you want to save it in file\n",
    "with open(\"./lifts.geojson\",mode=\"w\") as f:\n",
    "  geojson.dump(res,f)"
   ]
  }
 ],
 "metadata": {
  "kernelspec": {
   "display_name": "openskipass",
   "language": "python",
   "name": "python3"
  },
  "language_info": {
   "codemirror_mode": {
    "name": "ipython",
    "version": 3
   },
   "file_extension": ".py",
   "mimetype": "text/x-python",
   "name": "python",
   "nbconvert_exporter": "python",
   "pygments_lexer": "ipython3",
   "version": "3.12.4"
  }
 },
 "nbformat": 4,
 "nbformat_minor": 2
}
